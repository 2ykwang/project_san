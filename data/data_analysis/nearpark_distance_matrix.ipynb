{
  "cells": [
    {
      "cell_type": "markdown",
      "metadata": {
        "id": "aeE7_Zi78ZVK"
      },
      "source": [
        "# 인접 공원 거리 기반\n",
        "- distance_matrix 이용\n"
      ]
    },
    {
      "cell_type": "code",
      "execution_count": 1,
      "metadata": {
        "colab": {
          "base_uri": "https://localhost:8080/"
        },
        "id": "2qUizoNn8Iye",
        "outputId": "3382aa39-8859-436f-d002-2f4ae609e4e5"
      },
      "outputs": [
        {
          "name": "stdout",
          "output_type": "stream",
          "text": [
            "Mounted at /content/drive\n"
          ]
        }
      ],
      "source": [
        "from google.colab import drive\n",
        "drive.mount('/content/drive')"
      ]
    },
    {
      "cell_type": "code",
      "execution_count": 3,
      "metadata": {
        "colab": {
          "base_uri": "https://localhost:8080/"
        },
        "id": "C89r8H618lAf",
        "outputId": "b392e1ef-7ea8-4b82-dfdf-1f52b0f396bf"
      },
      "outputs": [
        {
          "name": "stdout",
          "output_type": "stream",
          "text": [
            "Requirement already satisfied: scipy in /usr/local/lib/python3.7/dist-packages (1.4.1)\n",
            "Requirement already satisfied: numpy>=1.13.3 in /usr/local/lib/python3.7/dist-packages (from scipy) (1.19.5)\n"
          ]
        }
      ],
      "source": [
        "# pip install scipy"
      ]
    },
    {
      "cell_type": "code",
      "execution_count": 1,
      "metadata": {
        "id": "YwgiCAqB8quK"
      },
      "outputs": [],
      "source": [
        "import numpy as np\n",
        "import pandas as pd\n",
        "import matplotlib.pyplot as plt\n",
        "import seaborn as sns"
      ]
    },
    {
      "cell_type": "code",
      "execution_count": 2,
      "metadata": {
        "colab": {
          "base_uri": "https://localhost:8080/"
        },
        "id": "HRkOCJ458y6o",
        "outputId": "fff9e2c7-42c4-40a7-8c4d-e12bca50c146"
      },
      "outputs": [
        {
          "name": "stderr",
          "output_type": "stream",
          "text": [
            "'sudo'��(��) ���� �Ǵ� �ܺ� ����, ������ �� �ִ� ���α׷�, �Ǵ�\n",
            "��ġ ������ �ƴմϴ�.\n",
            "'sudo'��(��) ���� �Ǵ� �ܺ� ����, ������ �� �ִ� ���α׷�, �Ǵ�\n",
            "��ġ ������ �ƴմϴ�.\n",
            "'rm'��(��) ���� �Ǵ� �ܺ� ����, ������ �� �ִ� ���α׷�, �Ǵ�\n",
            "��ġ ������ �ƴմϴ�.\n"
          ]
        }
      ],
      "source": [
        "# 한글 폰트 설정\n",
        "import matplotlib.font_manager as fm\n",
        "!sudo apt-get install -y fonts-nanum\n",
        "!sudo fc-cache -fv\n",
        "!rm ~/.cache/matplotlib -rf"
      ]
    },
    {
      "cell_type": "code",
      "execution_count": 3,
      "metadata": {
        "id": "Q9fmFbgL80LJ"
      },
      "outputs": [],
      "source": [
        "font_dirs = ['/usr/share/fonts/truetype/nanum']\n",
        "font_files = fm.findSystemFonts(fontpaths=font_dirs)\n",
        "for font_file in font_files:\n",
        "  fm.fontManager.addfont(font_file)\n",
        "\n",
        "#plt.rcParams['font.family'] = 'NanumGothic'\n",
        "plt.rc('font', family='NanumBarunGothic')\n",
        "plt.rcParams['axes.unicode_minus'] = False\n",
        "\n",
        "sns.set(font=\"NanumBarunGothic\", \n",
        "        rc={\"axes.unicode_minus\":False},\n",
        "        style='darkgrid')"
      ]
    },
    {
      "cell_type": "code",
      "execution_count": 4,
      "metadata": {
        "id": "EckxPtbX83WD"
      },
      "outputs": [],
      "source": [
        "from scipy.spatial import distance_matrix"
      ]
    },
    {
      "cell_type": "code",
      "execution_count": 6,
      "metadata": {
        "colab": {
          "base_uri": "https://localhost:8080/",
          "height": 563
        },
        "id": "GKp_ZFgr89bA",
        "outputId": "fd0f3a2c-4fbd-4a33-d0e9-98408cba4dbf"
      },
      "outputs": [
        {
          "data": {
            "text/html": [
              "<div>\n",
              "<style scoped>\n",
              "    .dataframe tbody tr th:only-of-type {\n",
              "        vertical-align: middle;\n",
              "    }\n",
              "\n",
              "    .dataframe tbody tr th {\n",
              "        vertical-align: top;\n",
              "    }\n",
              "\n",
              "    .dataframe thead th {\n",
              "        text-align: right;\n",
              "    }\n",
              "</style>\n",
              "<table border=\"1\" class=\"dataframe\">\n",
              "  <thead>\n",
              "    <tr style=\"text-align: right;\">\n",
              "      <th></th>\n",
              "      <th>번호</th>\n",
              "      <th>명칭</th>\n",
              "      <th>위치</th>\n",
              "      <th>동이름</th>\n",
              "      <th>위도</th>\n",
              "      <th>경도</th>\n",
              "      <th>설치기구종류</th>\n",
              "      <th>운동기구 총계</th>\n",
              "      <th>담당부서</th>\n",
              "      <th>데이터기준일</th>\n",
              "    </tr>\n",
              "  </thead>\n",
              "  <tbody>\n",
              "    <tr>\n",
              "      <th>0</th>\n",
              "      <td>1</td>\n",
              "      <td>도림천</td>\n",
              "      <td>신림동 808-126 ~ 구로교(구로디지털단지역) (관악구 6.7km 관리)</td>\n",
              "      <td>대학동</td>\n",
              "      <td>37.459221</td>\n",
              "      <td>126.947436</td>\n",
              "      <td>워킹머신 (4개),롤링웨이스트 (3개),허리돌리기 (2개),크로스컨트리 (5개),트...</td>\n",
              "      <td>45</td>\n",
              "      <td>치수과</td>\n",
              "      <td>#######</td>\n",
              "    </tr>\n",
              "    <tr>\n",
              "      <th>1</th>\n",
              "      <td>2</td>\n",
              "      <td>관악산 야외식물원</td>\n",
              "      <td>신림동 205-1</td>\n",
              "      <td>대학동</td>\n",
              "      <td>37.461175</td>\n",
              "      <td>126.948224</td>\n",
              "      <td>등허리운동,뱃살운동,다리운동,허리운동,노젓기운동,괄약근운동,양다리운동,옆회전운동,평행봉</td>\n",
              "      <td>9</td>\n",
              "      <td>공원녹지과</td>\n",
              "      <td>#######</td>\n",
              "    </tr>\n",
              "    <tr>\n",
              "      <th>2</th>\n",
              "      <td>3</td>\n",
              "      <td>관악산 샘말공원</td>\n",
              "      <td>서울특별시 관악구 신림동 신림로</td>\n",
              "      <td>신림동</td>\n",
              "      <td>37.464900</td>\n",
              "      <td>126.938487</td>\n",
              "      <td>양다리운동,옆회전운동,원그리기운동,허리운동,노젓기운동,마라톤운동,팔올리기운동,하체단...</td>\n",
              "      <td>11</td>\n",
              "      <td>공원녹지과</td>\n",
              "      <td>#######</td>\n",
              "    </tr>\n",
              "    <tr>\n",
              "      <th>3</th>\n",
              "      <td>4</td>\n",
              "      <td>맨발공원</td>\n",
              "      <td>신림동 산 27-5</td>\n",
              "      <td>대학동</td>\n",
              "      <td>37.466530</td>\n",
              "      <td>126.944351</td>\n",
              "      <td>원그리기운동,팔내리기운동,옆회전운동,허리돌리기,역기,윗몸일으키기,평행봉, 철봉,달리...</td>\n",
              "      <td>14</td>\n",
              "      <td>공원녹지과</td>\n",
              "      <td>#######</td>\n",
              "    </tr>\n",
              "    <tr>\n",
              "      <th>4</th>\n",
              "      <td>5</td>\n",
              "      <td>제2구민운동장</td>\n",
              "      <td>신림동 58-8</td>\n",
              "      <td>신림동</td>\n",
              "      <td>37.458192</td>\n",
              "      <td>126.933654</td>\n",
              "      <td>원그리기운동,허리운동,옆회전운동,양다리운동,팔올리기운동,노젓기운동,뱃살운동</td>\n",
              "      <td>7</td>\n",
              "      <td>공원녹지과</td>\n",
              "      <td>#######</td>\n",
              "    </tr>\n",
              "  </tbody>\n",
              "</table>\n",
              "</div>"
            ],
            "text/plain": [
              "   번호         명칭                                          위치  동이름         위도  \\\n",
              "0   1        도림천  신림동 808-126 ~ 구로교(구로디지털단지역) (관악구 6.7km 관리)  대학동  37.459221   \n",
              "1   2  관악산 야외식물원                                   신림동 205-1  대학동  37.461175   \n",
              "2   3   관악산 샘말공원                           서울특별시 관악구 신림동 신림로  신림동  37.464900   \n",
              "3   4       맨발공원                                  신림동 산 27-5  대학동  37.466530   \n",
              "4   5    제2구민운동장                                    신림동 58-8  신림동  37.458192   \n",
              "\n",
              "           경도                                             설치기구종류  운동기구 총계  \\\n",
              "0  126.947436  워킹머신 (4개),롤링웨이스트 (3개),허리돌리기 (2개),크로스컨트리 (5개),트...       45   \n",
              "1  126.948224   등허리운동,뱃살운동,다리운동,허리운동,노젓기운동,괄약근운동,양다리운동,옆회전운동,평행봉        9   \n",
              "2  126.938487  양다리운동,옆회전운동,원그리기운동,허리운동,노젓기운동,마라톤운동,팔올리기운동,하체단...       11   \n",
              "3  126.944351  원그리기운동,팔내리기운동,옆회전운동,허리돌리기,역기,윗몸일으키기,평행봉, 철봉,달리...       14   \n",
              "4  126.933654          원그리기운동,허리운동,옆회전운동,양다리운동,팔올리기운동,노젓기운동,뱃살운동        7   \n",
              "\n",
              "    담당부서   데이터기준일  \n",
              "0    치수과  #######  \n",
              "1  공원녹지과  #######  \n",
              "2  공원녹지과  #######  \n",
              "3  공원녹지과  #######  \n",
              "4  공원녹지과  #######  "
            ]
          },
          "execution_count": 6,
          "metadata": {},
          "output_type": "execute_result"
        }
      ],
      "source": [
        "park = pd.read_csv('../etl/etl_files/Gwanak.csv', encoding=\"cp949\")\n",
        "park.head()"
      ]
    },
    {
      "cell_type": "code",
      "execution_count": 8,
      "metadata": {
        "colab": {
          "base_uri": "https://localhost:8080/",
          "height": 455
        },
        "id": "HDqfwPMG9BWU",
        "outputId": "091e4b9d-2680-4516-c49b-3d2ecea11300"
      },
      "outputs": [
        {
          "data": {
            "text/html": [
              "<div>\n",
              "<style scoped>\n",
              "    .dataframe tbody tr th:only-of-type {\n",
              "        vertical-align: middle;\n",
              "    }\n",
              "\n",
              "    .dataframe tbody tr th {\n",
              "        vertical-align: top;\n",
              "    }\n",
              "\n",
              "    .dataframe thead th {\n",
              "        text-align: right;\n",
              "    }\n",
              "</style>\n",
              "<table border=\"1\" class=\"dataframe\">\n",
              "  <thead>\n",
              "    <tr style=\"text-align: right;\">\n",
              "      <th></th>\n",
              "      <th>위도</th>\n",
              "      <th>경도</th>\n",
              "    </tr>\n",
              "    <tr>\n",
              "      <th>명칭</th>\n",
              "      <th></th>\n",
              "      <th></th>\n",
              "    </tr>\n",
              "  </thead>\n",
              "  <tbody>\n",
              "    <tr>\n",
              "      <th>도림천</th>\n",
              "      <td>37.459221</td>\n",
              "      <td>126.947436</td>\n",
              "    </tr>\n",
              "    <tr>\n",
              "      <th>관악산 야외식물원</th>\n",
              "      <td>37.461175</td>\n",
              "      <td>126.948224</td>\n",
              "    </tr>\n",
              "    <tr>\n",
              "      <th>관악산 샘말공원</th>\n",
              "      <td>37.464900</td>\n",
              "      <td>126.938487</td>\n",
              "    </tr>\n",
              "    <tr>\n",
              "      <th>맨발공원</th>\n",
              "      <td>37.466530</td>\n",
              "      <td>126.944351</td>\n",
              "    </tr>\n",
              "    <tr>\n",
              "      <th>제2구민운동장</th>\n",
              "      <td>37.458192</td>\n",
              "      <td>126.933654</td>\n",
              "    </tr>\n",
              "    <tr>\n",
              "      <th>...</th>\n",
              "      <td>...</td>\n",
              "      <td>...</td>\n",
              "    </tr>\n",
              "    <tr>\n",
              "      <th>까치 어린이공원</th>\n",
              "      <td>37.479943</td>\n",
              "      <td>126.959598</td>\n",
              "    </tr>\n",
              "    <tr>\n",
              "      <th>장미 어린이공원</th>\n",
              "      <td>37.479071</td>\n",
              "      <td>126.962367</td>\n",
              "    </tr>\n",
              "    <tr>\n",
              "      <th>모래내 어린이공원</th>\n",
              "      <td>37.477801</td>\n",
              "      <td>126.955581</td>\n",
              "    </tr>\n",
              "    <tr>\n",
              "      <th>백설 어린이공원</th>\n",
              "      <td>37.476005</td>\n",
              "      <td>126.953670</td>\n",
              "    </tr>\n",
              "    <tr>\n",
              "      <th>탑골 어린이공원</th>\n",
              "      <td>37.474460</td>\n",
              "      <td>126.961095</td>\n",
              "    </tr>\n",
              "  </tbody>\n",
              "</table>\n",
              "<p>79 rows × 2 columns</p>\n",
              "</div>"
            ],
            "text/plain": [
              "                  위도          경도\n",
              "명칭                              \n",
              "도림천        37.459221  126.947436\n",
              "관악산 야외식물원  37.461175  126.948224\n",
              "관악산 샘말공원   37.464900  126.938487\n",
              "맨발공원       37.466530  126.944351\n",
              "제2구민운동장    37.458192  126.933654\n",
              "...              ...         ...\n",
              "까치 어린이공원   37.479943  126.959598\n",
              "장미 어린이공원   37.479071  126.962367\n",
              "모래내 어린이공원  37.477801  126.955581\n",
              "백설 어린이공원   37.476005  126.953670\n",
              "탑골 어린이공원   37.474460  126.961095\n",
              "\n",
              "[79 rows x 2 columns]"
            ]
          },
          "execution_count": 8,
          "metadata": {},
          "output_type": "execute_result"
        }
      ],
      "source": [
        "park_position = park[['명칭','위도','경도']].set_index('명칭')\n",
        "# park_position['위도'] = park_position['위도'].apply(lambda x: int(x[3:].replace(',','')))\n",
        "# park_position['경도'] = park_position['경도'].apply(lambda x: int(x[5:].replace(',','')))\n",
        "park_position"
      ]
    },
    {
      "cell_type": "code",
      "execution_count": 9,
      "metadata": {
        "colab": {
          "base_uri": "https://localhost:8080/",
          "height": 623
        },
        "id": "On0H5iZP9T2f",
        "outputId": "90482c9b-9b08-4224-ca4e-b170428de4c4"
      },
      "outputs": [
        {
          "name": "stderr",
          "output_type": "stream",
          "text": [
            "findfont: Font family ['NanumBarunGothic'] not found. Falling back to DejaVu Sans.\n"
          ]
        },
        {
          "data": {
            "image/png": "[encoded data removed]",
            "text/plain": [
              "<Figure size 720x720 with 1 Axes>"
            ]
          },
          "metadata": {},
          "output_type": "display_data"
        }
      ],
      "source": [
        "fig, ax = plt.subplots(figsize=(10,10))\n",
        "plt.scatter(data=park_position, x='경도',y='위도')\n",
        "plt.show()"
      ]
    },
    {
      "cell_type": "code",
      "execution_count": 10,
      "metadata": {
        "id": "V-8_ob_1_9cm"
      },
      "outputs": [
        {
          "data": {
            "text/plain": [
              "array([[ 37.45922056, 126.9474365 ],\n",
              "       [ 37.46117532, 126.948224  ],\n",
              "       [ 37.46490032, 126.9384872 ],\n",
              "       [ 37.46653022, 126.9443508 ],\n",
              "       [ 37.4581916 , 126.9336538 ],\n",
              "       [ 37.4632424 , 126.9274051 ],\n",
              "       [ 37.46918723, 126.9701342 ],\n",
              "       [ 37.46869887, 126.9700973 ],\n",
              "       [ 37.46740181, 126.9261447 ],\n",
              "       [ 37.46863639, 126.9130713 ],\n",
              "       [ 37.46062333, 126.9370334 ],\n",
              "       [ 37.47758421, 126.9228109 ],\n",
              "       [ 37.47776267, 126.9187994 ],\n",
              "       [ 37.45955849, 126.915074  ],\n",
              "       [ 37.46167895, 126.9187599 ],\n",
              "       [ 37.46599772, 126.9165434 ],\n",
              "       [ 37.47603303, 126.9515569 ],\n",
              "       [ 37.47440298, 126.9488145 ],\n",
              "       [ 37.47573021, 126.9512288 ],\n",
              "       [ 37.47450525, 126.9513428 ],\n",
              "       [ 37.47693209, 126.9494369 ],\n",
              "       [ 37.4712795 , 126.9600007 ],\n",
              "       [ 37.4729817 , 126.9157077 ],\n",
              "       [ 37.46525175, 126.9208607 ],\n",
              "       [ 37.48037476, 126.9156515 ],\n",
              "       [ 37.4764527 , 126.9693215 ],\n",
              "       [ 37.47998945, 126.9364413 ],\n",
              "       [ 37.49178612, 126.9417286 ],\n",
              "       [ 37.47396789, 126.9623416 ],\n",
              "       [ 37.47483844, 126.9133898 ],\n",
              "       [ 37.48034684, 126.9140143 ],\n",
              "       [ 37.47408463, 126.9152698 ],\n",
              "       [ 37.47566414, 126.914663  ],\n",
              "       [ 37.47360364, 126.9126127 ],\n",
              "       [ 37.46511881, 126.9270007 ],\n",
              "       [ 37.4593612 , 126.9329214 ],\n",
              "       [ 37.46753531, 126.934154  ],\n",
              "       [ 37.46789236, 126.9422508 ],\n",
              "       [ 37.46855739, 126.9364433 ],\n",
              "       [ 37.48242525, 126.9130473 ],\n",
              "       [ 37.46287146, 126.9152456 ],\n",
              "       [ 37.48644101, 126.93267   ],\n",
              "       [ 37.48879694, 126.9256884 ],\n",
              "       [ 37.48496598, 126.9205606 ],\n",
              "       [ 37.47794613, 126.9494416 ],\n",
              "       [ 37.4827557 , 126.9356256 ],\n",
              "       [ 37.48204844, 126.9239552 ],\n",
              "       [ 37.46970083, 126.9235093 ],\n",
              "       [ 37.47549392, 126.92562   ],\n",
              "       [ 37.47585144, 126.9408056 ],\n",
              "       [ 37.4768712 , 126.9356706 ],\n",
              "       [ 37.4725926 , 126.9406156 ],\n",
              "       [ 37.47517913, 126.9424969 ],\n",
              "       [ 37.47679408, 126.9333335 ],\n",
              "       [ 37.47298895, 126.9803485 ],\n",
              "       [ 37.47458645, 126.9767239 ],\n",
              "       [ 37.47195485, 126.9789702 ],\n",
              "       [ 37.47331002, 126.9640262 ],\n",
              "       [ 37.47403159, 126.9672505 ],\n",
              "       [ 37.47537711, 126.9625619 ],\n",
              "       [ 37.47486901, 126.963498  ],\n",
              "       [ 37.48443876, 126.9495842 ],\n",
              "       [ 37.477143  , 126.913689  ],\n",
              "       [ 37.48516503, 126.9394575 ],\n",
              "       [ 37.48829467, 126.9430099 ],\n",
              "       [ 37.49022471, 126.9433397 ],\n",
              "       [ 37.49001168, 126.9405537 ],\n",
              "       [ 37.48998557, 126.9341848 ],\n",
              "       [ 37.48884182, 126.9378574 ],\n",
              "       [ 37.47768667, 126.9447092 ],\n",
              "       [ 37.4809837 , 126.9402085 ],\n",
              "       [ 37.47554651, 126.9435408 ],\n",
              "       [ 37.4768281 , 126.9437348 ],\n",
              "       [ 37.47845511, 126.9410498 ],\n",
              "       [ 37.47994325, 126.9595981 ],\n",
              "       [ 37.47907129, 126.9623674 ],\n",
              "       [ 37.47780085, 126.9555808 ],\n",
              "       [ 37.47600499, 126.9536698 ],\n",
              "       [ 37.47446048, 126.9610949 ]])"
            ]
          },
          "execution_count": 10,
          "metadata": {},
          "output_type": "execute_result"
        }
      ],
      "source": [
        "np.array(park_position)"
      ]
    },
    {
      "cell_type": "code",
      "execution_count": 48,
      "metadata": {
        "colab": {
          "base_uri": "https://localhost:8080/"
        },
        "id": "_JexPN6DD1Jt",
        "outputId": "d82f46b5-2abf-4dec-88e7-889416f0ef91"
      },
      "outputs": [
        {
          "data": {
            "text/plain": [
              "['도림천',\n",
              " '관악산 야외식물원',\n",
              " '관악산 샘말공원',\n",
              " '맨발공원',\n",
              " '제2구민운동장',\n",
              " '신림2-1배수지',\n",
              " '봉천11배수지공원(놀이터부근)',\n",
              " '봉천11배수지공원(배드민턴장부근)',\n",
              " '신림6배수지공원',\n",
              " '선우공원',\n",
              " '고시공원',\n",
              " '난우공원',\n",
              " '미성체육관 부근',\n",
              " '난향동 서울숲요양원 뒤',\n",
              " '난향동 주민쉼터',\n",
              " '난향공원',\n",
              " '청룡산공원(배드민턴장 옆)',\n",
              " '청룡산공원(유아숲체험장윈)',\n",
              " '청룡산입구(청룡초 뒤)',\n",
              " '청룡산공원(관악경찰서 옆)',\n",
              " '청룡산공원(텃밭공원)',\n",
              " '낙성대공원(구민체육센터 일대)',\n",
              " '근린8지구',\n",
              " '근린19지구',\n",
              " '신림 근린공원',\n",
              " '까치산 근린공원',\n",
              " '장군봉 근린공원',\n",
              " '상도 근린공원',\n",
              " '약수 어린이공원',\n",
              " '대협 어린이공원',\n",
              " '난우 어린이공원',\n",
              " '난곡 어린이공원',\n",
              " '한라 어린이공원',\n",
              " '신라 어린이공원',\n",
              " '합실 어린이공원',\n",
              " '약수암 어린이공원',\n",
              " '사우촌 어린이공원',\n",
              " '목화 어린이공원',\n",
              " '태양 어린이공원',\n",
              " '새숲 어린이공원',\n",
              " '미도 어린이공원',\n",
              " '색동 어린이공원',\n",
              " '새들 어린이공원',\n",
              " '남부 어린이공원',\n",
              " '일선 어린이공원',\n",
              " '봉림 어린이공원',\n",
              " '호박골 어린이공원',\n",
              " '무궁화 어린이공원',\n",
              " '보명 어린이공원',\n",
              " '쑥고개 어린이공원',\n",
              " '신화 어린이공원',\n",
              " '해태 어린이공원',\n",
              " '서광 어린이공원',\n",
              " '서원 어린이공원',\n",
              " '상록 어린이공원',\n",
              " '예촌 어린이공원',\n",
              " '군아파트 어린이공원',\n",
              " '교체 어린이공원',\n",
              " '밤골 어린이공원',\n",
              " '인헌 어린이공원',\n",
              " '원당 어린이공원',\n",
              " '새싹 어린이공원',\n",
              " '미성동 소공원',\n",
              " '선봉 어린이공원',\n",
              " '은천 어린이공원',\n",
              " '국회단지 어린이공원',\n",
              " '국지 어린이공원',\n",
              " '국사봉 어린이공원',\n",
              " '학다리 어린이공원',\n",
              " '청룡 어린이공원',\n",
              " '비안 어린이공원',\n",
              " '용담 어린이공원',\n",
              " '영락 어린이공원',\n",
              " '으뜸 어린이공원',\n",
              " '까치 어린이공원',\n",
              " '장미 어린이공원',\n",
              " '모래내 어린이공원',\n",
              " '백설 어린이공원',\n",
              " '탑골 어린이공원']"
            ]
          },
          "execution_count": 48,
          "metadata": {},
          "output_type": "execute_result"
        }
      ],
      "source": []
    },
    {
      "cell_type": "code",
      "execution_count": 40,
      "metadata": {
        "colab": {
          "base_uri": "https://localhost:8080/",
          "height": 424
        },
        "id": "VJNX1nlh9bUZ",
        "outputId": "37e3368c-1be1-4d34-8781-6fb4a53cdd1b"
      },
      "outputs": [
        {
          "name": "stdout",
          "output_type": "stream",
          "text": [
            "[0.         0.00210743 0.00793427 0.01010404 0.01049725]\n",
            "[0.         0.00210743 0.00660883 0.00898876 0.01042501]\n",
            "[0.         0.00418947 0.00451732 0.00480801 0.00507147]\n",
            "[0.         0.00250308 0.00608592 0.00660883 0.00712069]\n",
            "[0.         0.00137999 0.00416353 0.00803473 0.00826854]\n",
            "[0.         0.00191949 0.00434618 0.00674487 0.00684592]\n",
            "[0.         0.00048975 0.00563769 0.00731078 0.0073692 ]\n",
            "[0.         0.00048975 0.00604501 0.00762371 0.00779254]\n",
            "[0.         0.0024382  0.00349726 0.00434618 0.00570468]\n",
            "[0.         0.00436097 0.00498838 0.00508255 0.00587509]\n",
            "[0.         0.00416353 0.00430134 0.00451732 0.00748775]\n",
            "[0.         0.00350148 0.00401547 0.00460855 0.00768402]\n",
            "[0.         0.00401547 0.00409051 0.00463828 0.00509765]\n",
            "[0.         0.00331741 0.00425232 0.00660476 0.00811783]\n",
            "[0.         0.00371112 0.00414467 0.00425232 0.00485434]\n",
            "[0.         0.00338494 0.00436097 0.00438127 0.00485434]\n",
            "[0.         0.00044649 0.00154271 0.00211309 0.00230276]\n",
            "[0.         0.00253037 0.00260457 0.00275507 0.00319027]\n",
            "[0.         0.00044649 0.00123025 0.00215764 0.00245642]\n",
            "[0.         0.00123025 0.00154271 0.00253037 0.00276842]\n",
            "[0.         0.00101405 0.00215764 0.00230276 0.00260457]\n",
            "[0.         0.00336391 0.00356472 0.00450862 0.0048322 ]\n",
            "[0.         0.00118668 0.00287869 0.00296987 0.00315687]\n",
            "[0.         0.00414467 0.00438127 0.00517778 0.00570468]\n",
            "[0.         0.00163744 0.00331457 0.00378096 0.00409051]\n",
            "[0.         0.00318603 0.006035   0.00615765 0.00684464]\n",
            "[0.         0.00288401 0.00321208 0.00389619 0.00445744]\n",
            "[0.         0.00212815 0.00224358 0.00371913 0.00486365]\n",
            "[0.         0.00134049 0.00142634 0.00146604 0.0018085 ]\n",
            "[0.         0.00145898 0.0015175  0.00202549 0.0023239 ]\n",
            "[0.         0.00163744 0.00229235 0.00322031 0.00472742]\n",
            "[0.         0.00118668 0.00169206 0.00202549 0.00270028]\n",
            "[0.         0.0015175  0.00169206 0.00177079 0.00287869]\n",
            "[0.         0.00145898 0.00270028 0.00290678 0.00315687]\n",
            "[0.         0.00191949 0.0024382  0.00576062 0.00614144]\n",
            "[0.         0.00137999 0.00430134 0.00674487 0.00785239]\n",
            "[0.         0.0025071  0.00507147 0.00748775 0.00755044]\n",
            "[0.         0.00250308 0.00480801 0.00497656 0.00584545]\n",
            "[0.         0.0025071  0.00418947 0.0058044  0.00584545]\n",
            "[0.         0.00229235 0.00331457 0.00532108 0.00695148]\n",
            "[0.         0.00331741 0.00338494 0.00371112 0.00609878]\n",
            "[0.         0.00385468 0.0047241  0.00571603 0.00690639]\n",
            "[0.         0.00640083 0.00696751 0.00736839 0.00857914]\n",
            "[0.         0.00447609 0.00640083 0.0067215  0.00741549]\n",
            "[0.         0.00101405 0.00284682 0.00285209 0.00359822]\n",
            "[0.         0.00288401 0.0045264  0.0047241  0.00491355]\n",
            "[0.         0.00447609 0.00460855 0.00670448 0.00676264]\n",
            "[0.         0.00349726 0.00517778 0.00576062 0.00616563]\n",
            "[0.         0.00350148 0.00616563 0.00676264 0.00718803]\n",
            "[0.         0.00182003 0.0026151  0.00275214 0.00308773]\n",
            "[0.         0.00233837 0.00321208 0.00523528 0.00560755]\n",
            "[0.         0.00319835 0.00326437 0.00415721 0.00497656]\n",
            "[0.         0.00110666 0.00182003 0.00206192 0.00319835]\n",
            "[0.         0.00233837 0.00445744 0.00638707 0.00753132]\n",
            "[0.         0.0017231  0.00396103 0.01089885 0.01111269]\n",
            "[0.         0.00345994 0.00396103 0.00763403 0.00851914]\n",
            "[0.         0.0017231  0.00345994 0.0092593  0.00945144]\n",
            "[0.         0.00164604 0.0018085  0.00253319 0.00314898]\n",
            "[0.         0.00318603 0.00330405 0.00384481 0.00487785]\n",
            "[0.         0.00106511 0.00142634 0.00172983 0.00253319]\n",
            "[0.         0.00106511 0.00146604 0.00164604 0.00243758]\n",
            "[0.         0.0064942  0.00750812 0.00762164 0.00832805]\n",
            "[0.         0.00177079 0.0023239  0.00322031 0.00344275]\n",
            "[0.         0.00400988 0.00424824 0.0045264  0.00473436]\n",
            "[0.         0.00195801 0.00299684 0.00371913 0.00473436]\n",
            "[0.         0.00195801 0.00224358 0.00279413 0.00565402]\n",
            "[0.         0.00212815 0.00279413 0.00293915 0.00299684]\n",
            "[0.         0.00384658 0.00385468 0.00636895 0.00714416]\n",
            "[0.         0.00293915 0.00384658 0.00400988 0.00486365]\n",
            "[0.         0.00129869 0.00243833 0.00334395 0.00373921]\n",
            "[0.         0.00266487 0.00389619 0.00424824 0.00491355]\n",
            "[0.         0.00110666 0.00129619 0.00243833 0.00275214]\n",
            "[0.         0.00129619 0.00129869 0.00206192 0.00308773]\n",
            "[0.         0.0026151  0.00266487 0.00313949 0.00358136]\n",
            "[0.         0.00290333 0.00455286 0.00544369 0.00568341]\n",
            "[0.         0.00290333 0.0036993  0.00435171 0.00478318]\n",
            "[0.         0.00262241 0.00439511 0.00455286 0.00481949]\n",
            "[0.         0.00211309 0.00245642 0.00262241 0.00276842]\n",
            "[0.         0.00134049 0.00172983 0.00243758 0.00314898]\n"
          ]
        },
        {
          "data": {
            "text/html": [
              "<div>\n",
              "<style scoped>\n",
              "    .dataframe tbody tr th:only-of-type {\n",
              "        vertical-align: middle;\n",
              "    }\n",
              "\n",
              "    .dataframe tbody tr th {\n",
              "        vertical-align: top;\n",
              "    }\n",
              "\n",
              "    .dataframe thead th {\n",
              "        text-align: right;\n",
              "    }\n",
              "</style>\n",
              "<table border=\"1\" class=\"dataframe\">\n",
              "  <thead>\n",
              "    <tr style=\"text-align: right;\">\n",
              "      <th></th>\n",
              "      <th>0</th>\n",
              "      <th>1</th>\n",
              "      <th>2</th>\n",
              "      <th>3</th>\n",
              "    </tr>\n",
              "  </thead>\n",
              "  <tbody>\n",
              "    <tr>\n",
              "      <th>도림천</th>\n",
              "      <td>관악산 야외식물원</td>\n",
              "      <td>맨발공원</td>\n",
              "      <td>목화 어린이공원</td>\n",
              "      <td>고시공원</td>\n",
              "    </tr>\n",
              "    <tr>\n",
              "      <th>관악산 야외식물원</th>\n",
              "      <td>도림천</td>\n",
              "      <td>맨발공원</td>\n",
              "      <td>목화 어린이공원</td>\n",
              "      <td>관악산 샘말공원</td>\n",
              "    </tr>\n",
              "    <tr>\n",
              "      <th>관악산 샘말공원</th>\n",
              "      <td>태양 어린이공원</td>\n",
              "      <td>고시공원</td>\n",
              "      <td>목화 어린이공원</td>\n",
              "      <td>사우촌 어린이공원</td>\n",
              "    </tr>\n",
              "    <tr>\n",
              "      <th>맨발공원</th>\n",
              "      <td>목화 어린이공원</td>\n",
              "      <td>관악산 샘말공원</td>\n",
              "      <td>관악산 야외식물원</td>\n",
              "      <td>해태 어린이공원</td>\n",
              "    </tr>\n",
              "    <tr>\n",
              "      <th>제2구민운동장</th>\n",
              "      <td>약수암 어린이공원</td>\n",
              "      <td>고시공원</td>\n",
              "      <td>신림2-1배수지</td>\n",
              "      <td>관악산 샘말공원</td>\n",
              "    </tr>\n",
              "    <tr>\n",
              "      <th>...</th>\n",
              "      <td>...</td>\n",
              "      <td>...</td>\n",
              "      <td>...</td>\n",
              "      <td>...</td>\n",
              "    </tr>\n",
              "    <tr>\n",
              "      <th>까치 어린이공원</th>\n",
              "      <td>장미 어린이공원</td>\n",
              "      <td>모래내 어린이공원</td>\n",
              "      <td>인헌 어린이공원</td>\n",
              "      <td>탑골 어린이공원</td>\n",
              "    </tr>\n",
              "    <tr>\n",
              "      <th>장미 어린이공원</th>\n",
              "      <td>까치 어린이공원</td>\n",
              "      <td>인헌 어린이공원</td>\n",
              "      <td>원당 어린이공원</td>\n",
              "      <td>탑골 어린이공원</td>\n",
              "    </tr>\n",
              "    <tr>\n",
              "      <th>모래내 어린이공원</th>\n",
              "      <td>백설 어린이공원</td>\n",
              "      <td>청룡산공원(배드민턴장 옆)</td>\n",
              "      <td>까치 어린이공원</td>\n",
              "      <td>청룡산입구(청룡초 뒤)</td>\n",
              "    </tr>\n",
              "    <tr>\n",
              "      <th>백설 어린이공원</th>\n",
              "      <td>청룡산공원(배드민턴장 옆)</td>\n",
              "      <td>청룡산입구(청룡초 뒤)</td>\n",
              "      <td>모래내 어린이공원</td>\n",
              "      <td>청룡산공원(관악경찰서 옆)</td>\n",
              "    </tr>\n",
              "    <tr>\n",
              "      <th>탑골 어린이공원</th>\n",
              "      <td>약수 어린이공원</td>\n",
              "      <td>인헌 어린이공원</td>\n",
              "      <td>원당 어린이공원</td>\n",
              "      <td>교체 어린이공원</td>\n",
              "    </tr>\n",
              "  </tbody>\n",
              "</table>\n",
              "<p>79 rows × 4 columns</p>\n",
              "</div>"
            ],
            "text/plain": [
              "                        0               1          2               3\n",
              "도림천             관악산 야외식물원            맨발공원   목화 어린이공원            고시공원\n",
              "관악산 야외식물원             도림천            맨발공원   목화 어린이공원        관악산 샘말공원\n",
              "관악산 샘말공원         태양 어린이공원            고시공원   목화 어린이공원       사우촌 어린이공원\n",
              "맨발공원             목화 어린이공원        관악산 샘말공원  관악산 야외식물원        해태 어린이공원\n",
              "제2구민운동장         약수암 어린이공원            고시공원   신림2-1배수지        관악산 샘말공원\n",
              "...                   ...             ...        ...             ...\n",
              "까치 어린이공원         장미 어린이공원       모래내 어린이공원   인헌 어린이공원        탑골 어린이공원\n",
              "장미 어린이공원         까치 어린이공원        인헌 어린이공원   원당 어린이공원        탑골 어린이공원\n",
              "모래내 어린이공원        백설 어린이공원  청룡산공원(배드민턴장 옆)   까치 어린이공원    청룡산입구(청룡초 뒤)\n",
              "백설 어린이공원   청룡산공원(배드민턴장 옆)    청룡산입구(청룡초 뒤)  모래내 어린이공원  청룡산공원(관악경찰서 옆)\n",
              "탑골 어린이공원         약수 어린이공원        인헌 어린이공원   원당 어린이공원        교체 어린이공원\n",
              "\n",
              "[79 rows x 4 columns]"
            ]
          },
          "execution_count": 40,
          "metadata": {},
          "output_type": "execute_result"
        }
      ],
      "source": [
        "park_name = list(park_position.index)\n",
        "# print(park_name)\n",
        "near_park = {}\n",
        "\n",
        "for ind in park_position.index:\n",
        "  dist = distance_matrix([[ park_position.loc[ind]['위도'],park_position.loc[ind]['경도'] ]],np.array(park_position))\n",
        "  # print(dist)\n",
        "  dist_sorted = np.sort(dist)[0][:5]\n",
        "  print(dist_sorted)\n",
        "  park_index = [np.where(dist == dist_sorted[i])[1] for i in range(1,5)]\n",
        "  near_park[ind] = [park_name[i_arr[0]] for i_arr in park_index]\n",
        "  \n",
        "pd.DataFrame.from_dict(near_park, orient='index')"
      ]
    }
  ],
  "metadata": {
    "colab": {
      "name": "nearpark-distance_matrix.ipynb",
      "provenance": []
    },
    "kernelspec": {
      "display_name": "Python 3",
      "name": "python3"
    },
    "language_info": {
      "codemirror_mode": {
        "name": "ipython",
        "version": 3
      },
      "file_extension": ".py",
      "mimetype": "text/x-python",
      "name": "python",
      "nbconvert_exporter": "python",
      "pygments_lexer": "ipython3",
      "version": "3.9.6"
    }
  },
  "nbformat": 4,
  "nbformat_minor": 0
}
